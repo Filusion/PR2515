{
 "cells": [
  {
   "cell_type": "markdown",
   "id": "3a14f94a-2e6b-4c3b-86e2-4b7f91d95853",
   "metadata": {},
   "source": [
    "# CO₂ Emissions per Square Kilometer in European Countries\n",
    "In this notebook we will be plotting a few visualizations for CO2 emissions per square kilometer in European Countries throughout the years from 1970-2023."
   ]
  },
  {
   "cell_type": "code",
   "execution_count": 2,
   "id": "c8646339-b472-499f-bdc6-6a3417cc675f",
   "metadata": {},
   "outputs": [],
   "source": [
    "import pandas as pd\n",
    "import matplotlib.pyplot as plt"
   ]
  },
  {
   "cell_type": "markdown",
   "id": "d24ea468-214a-446a-be72-9201399afa75",
   "metadata": {},
   "source": [
    "### Data loading"
   ]
  },
  {
   "cell_type": "markdown",
   "id": "581986e1-302d-442b-ab36-eb05811b3fab",
   "metadata": {},
   "source": [
    "To begin the project, we explored available databases related to pollution and CO2 emissions. After gathering the data from online sources, we organized it into appropriate folders and integrated it into our code."
   ]
  },
  {
   "cell_type": "code",
   "execution_count": 3,
   "id": "d3fb59ee-b5db-485f-8cb4-8847c3f5fadb",
   "metadata": {},
   "outputs": [],
   "source": [
    "data_root = './data/'"
   ]
  },
  {
   "cell_type": "code",
   "execution_count": 4,
   "id": "52e11dda-94e0-41d3-ab74-f2fd7e535a4c",
   "metadata": {},
   "outputs": [],
   "source": [
    "# Reading the data\n",
    "df_co2 = pd.read_csv(f'{data_root}co2_emmisions_complicated.csv')"
   ]
  },
  {
   "cell_type": "markdown",
   "id": "a89d961b-2323-4643-b074-da5b3b723c34",
   "metadata": {},
   "source": [
    "As the dataset included information on countries worldwide, we decided to narrow our focus to a more manageable scope by analyzing data specifically related to European countries."
   ]
  },
  {
   "cell_type": "code",
   "execution_count": 23,
   "id": "0936165b-f1d5-4046-99d8-0c4789f0b5de",
   "metadata": {},
   "outputs": [],
   "source": [
    "# Filtering the data only for european countries\n",
    "df_co2_europe = df_co2[df_co2['Region'].str.contains('Europe', case=False, na=False)]\n",
    "\n",
    "# Filter Russia\n",
    "df_russia = df_co2[df_co2['Name'].str.contains('Russian Federation', case=False, na=False)].copy()\n",
    "\n",
    "# Rename 'Russian Federation' to 'Russia'\n",
    "df_russia['Name'] = df_russia['Name'].replace('Russian Federation', 'Russia')\n",
    "\n",
    "# Concatenate and remove duplicates if needed\n",
    "df_co2_europe = pd.concat([df_co2_europe, df_russia]).drop_duplicates()"
   ]
  },
  {
   "cell_type": "code",
   "execution_count": 24,
   "id": "a5e1c892-5cc5-46db-9a5d-2871d739b2dd",
   "metadata": {},
   "outputs": [
    {
     "name": "stdout",
     "output_type": "stream",
     "text": [
      "['Albania', 'Austria', 'Belgium', 'Bulgaria', 'Bosnia and Herzegovina', 'Switzerland', 'Cyprus', 'Czech Republic', 'Germany', 'Denmark', 'Spain', 'Estonia', 'Finland', 'France', 'United Kingdom', 'Greece', 'Croatia', 'Hungary', 'Ireland', 'Iceland', 'Italy', 'Lithuania', 'Luxembourg', 'Latvia', 'North Macedonia', 'Malta', 'Netherlands', 'Norway', 'Poland', 'Portugal', 'Romania', 'Serbia and Montenegro', 'Slovakia', 'Slovenia', 'Sweden', 'Russia']\n"
     ]
    }
   ],
   "source": [
    "countries = df_co2_europe[\"Name\"].unique().tolist()\n",
    "print(countries)"
   ]
  },
  {
   "cell_type": "code",
   "execution_count": 25,
   "id": "2936526e-d7cf-4ea1-b796-4b28341c1a00",
   "metadata": {},
   "outputs": [],
   "source": [
    "countries_area = {\n",
    "    'Albania': 28748,\n",
    "    'Austria': 83871,\n",
    "    'Belgium': 30528,\n",
    "    'Bulgaria': 110879,\n",
    "    'Bosnia and Herzegovina': 51197,\n",
    "    'Switzerland': 41285,\n",
    "    'Cyprus': 9251,\n",
    "    'Czech Republic': 78866,\n",
    "    'Germany': 357022,\n",
    "    'Denmark': 43094,\n",
    "    'Spain' : 505978,\n",
    "    'Estonia': 45340,\n",
    "    'Finland': 338470, \n",
    "    'France': 549087,\n",
    "    'United Kingdom': 243610,\n",
    "    'Greece': 131960,\n",
    "    'Croatia': 88070,\n",
    "    'Hungary': 93030,\n",
    "    'Ireland': 70280,\n",
    "    'Iceland': 103000,\n",
    "    'Italy': 302070,\n",
    "    'Lithuania': 65286,\n",
    "    'Luxembourg': 2590,\n",
    "    'Latvia': 64590,\n",
    "    'North Macedonia': 25710,\n",
    "    'Malta': 320,\n",
    "    'Netherlands': 41540,\n",
    "    'Norway': 624500,\n",
    "    'Poland': 312720,\n",
    "    'Portugal': 92230, \n",
    "    'Romania': 238400,\n",
    "    'Serbia and Montenegro': 98800,\n",
    "    'Slovakia': 49030,\n",
    "    'Slovenia': 20480,\n",
    "    'Sweden': 528860,\n",
    "    'Russia': 17098250 \n",
    "}"
   ]
  },
  {
   "cell_type": "code",
   "execution_count": null,
   "id": "30f3b23b-0051-4006-82ba-e0763525688e",
   "metadata": {},
   "outputs": [],
   "source": []
  }
 ],
 "metadata": {
  "kernelspec": {
   "display_name": "Python [conda env:base] *",
   "language": "python",
   "name": "conda-base-py"
  },
  "language_info": {
   "codemirror_mode": {
    "name": "ipython",
    "version": 3
   },
   "file_extension": ".py",
   "mimetype": "text/x-python",
   "name": "python",
   "nbconvert_exporter": "python",
   "pygments_lexer": "ipython3",
   "version": "3.12.7"
  }
 },
 "nbformat": 4,
 "nbformat_minor": 5
}
